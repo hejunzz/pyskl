{
 "cells": [
  {
   "cell_type": "code",
   "execution_count": 18,
   "metadata": {},
   "outputs": [],
   "source": [
    "import glob\n",
    "from pyskl.smp import *\n",
    "from pyskl.utils.visualize import Vis3DPose, Vis2DPose\n",
    "from mmcv import load, dump"
   ]
  },
  {
   "cell_type": "code",
   "execution_count": 19,
   "metadata": {},
   "outputs": [],
   "source": [
    "# Download annotations\n",
    "download_file('http://download.openmmlab.com/mmaction/pyskl/demo/annotations/ntu60_samples_hrnet.pkl', 'ntu60_2d.pkl')\n",
    "download_file('http://download.openmmlab.com/mmaction/pyskl/demo/annotations/ntu60_samples_3danno.pkl', 'ntu60_3d.pkl')"
   ]
  },
  {
   "cell_type": "code",
   "execution_count": 20,
   "metadata": {},
   "outputs": [],
   "source": [
    "# Visualize 2D Skeletons without video\n",
    "annotations = load('ntu60_2d.pkl')\n",
    "index = 0\n",
    "anno = annotations[index]"
   ]
  },
  {
   "cell_type": "code",
   "execution_count": 26,
   "metadata": {},
   "outputs": [
    {
     "data": {
      "text/plain": [
       "array([0.965 , 0.929 , 0.9414, 0.935 , 0.96  , 0.906 , 0.941 , 0.909 ,\n",
       "       0.9575, 0.9272, 0.9116, 0.8174, 0.819 , 0.8745, 0.873 , 0.92  ,\n",
       "       0.9204], dtype=float16)"
      ]
     },
     "execution_count": 26,
     "metadata": {},
     "output_type": "execute_result"
    }
   ],
   "source": [
    "anno['keypoint_score'][0][0]"
   ]
  },
  {
   "cell_type": "code",
   "execution_count": null,
   "metadata": {},
   "outputs": [],
   "source": [
    "vid = Vis2DPose(anno, thre=0.2, out_shape=(540, 960), layout='coco', fps=12, video=None)\n",
    "vid.ipython_display()"
   ]
  },
  {
   "cell_type": "code",
   "execution_count": null,
   "metadata": {},
   "outputs": [],
   "source": [
    "# Visualize 2D Skeletons with the original RGB Video\n",
    "annotations = load('ntu60_2d.pkl')\n",
    "index = 0\n",
    "anno = annotations[index]\n",
    "frame_dir = anno['frame_dir']\n",
    "video_url = f\"http://download.openmmlab.com/mmaction/pyskl/demo/nturgbd/{frame_dir}.avi\"\n",
    "download_file(video_url, frame_dir + '.avi')\n",
    "vid = Vis2DPose(anno, thre=0.2, out_shape=(540, 960), layout='coco', fps=12, video=frame_dir + '.avi')\n",
    "vid.ipython_display()"
   ]
  },
  {
   "cell_type": "code",
   "execution_count": 11,
   "metadata": {},
   "outputs": [
    {
     "ename": "TypeError",
     "evalue": "gca() got an unexpected keyword argument 'projection'",
     "output_type": "error",
     "traceback": [
      "\u001b[0;31m---------------------------------------------------------------------------\u001b[0m",
      "\u001b[0;31mTypeError\u001b[0m                                 Traceback (most recent call last)",
      "Cell \u001b[0;32mIn [11], line 8\u001b[0m\n\u001b[1;32m      6\u001b[0m anno \u001b[39m=\u001b[39m PreNormalize3D()(anno)  \u001b[39m# * Need Pre-Normalization before Visualization\u001b[39;00m\n\u001b[1;32m      7\u001b[0m vid \u001b[39m=\u001b[39m Vis3DPose(anno, layout\u001b[39m=\u001b[39m\u001b[39m'\u001b[39m\u001b[39mnturgb+d\u001b[39m\u001b[39m'\u001b[39m, fps\u001b[39m=\u001b[39m\u001b[39m12\u001b[39m, angle\u001b[39m=\u001b[39m(\u001b[39m30\u001b[39m, \u001b[39m45\u001b[39m), fig_size\u001b[39m=\u001b[39m(\u001b[39m8\u001b[39m, \u001b[39m8\u001b[39m), dpi\u001b[39m=\u001b[39m\u001b[39m80\u001b[39m)\n\u001b[0;32m----> 8\u001b[0m vid \u001b[39m=\u001b[39m vid\u001b[39m.\u001b[39;49mvis()\n\u001b[1;32m      9\u001b[0m vid\u001b[39m.\u001b[39mipython_display()\n",
      "File \u001b[0;32m~/Documents/pyskl/pyskl/utils/visualize.py:72\u001b[0m, in \u001b[0;36mVis3DPose.vis\u001b[0;34m(self)\u001b[0m\n\u001b[1;32m     70\u001b[0m plt\u001b[39m.\u001b[39mfigure(figsize\u001b[39m=\u001b[39m\u001b[39mself\u001b[39m\u001b[39m.\u001b[39mfig_size)\n\u001b[1;32m     71\u001b[0m \u001b[39mfor\u001b[39;00m t \u001b[39min\u001b[39;00m \u001b[39mrange\u001b[39m(\u001b[39mself\u001b[39m\u001b[39m.\u001b[39mkp\u001b[39m.\u001b[39mshape[\u001b[39m1\u001b[39m]):\n\u001b[0;32m---> 72\u001b[0m     ax \u001b[39m=\u001b[39m plt\u001b[39m.\u001b[39;49mgca(projection\u001b[39m=\u001b[39;49m\u001b[39m'\u001b[39;49m\u001b[39m3d\u001b[39;49m\u001b[39m'\u001b[39;49m)\n\u001b[1;32m     73\u001b[0m     ax\u001b[39m.\u001b[39mset_xlim3d([\u001b[39mself\u001b[39m\u001b[39m.\u001b[39mmin_x, \u001b[39mself\u001b[39m\u001b[39m.\u001b[39mmax_x])\n\u001b[1;32m     74\u001b[0m     ax\u001b[39m.\u001b[39mset_ylim3d([\u001b[39mself\u001b[39m\u001b[39m.\u001b[39mmin_y, \u001b[39mself\u001b[39m\u001b[39m.\u001b[39mmax_y])\n",
      "\u001b[0;31mTypeError\u001b[0m: gca() got an unexpected keyword argument 'projection'"
     ]
    },
    {
     "data": {
      "text/plain": [
       "<Figure size 576x576 with 0 Axes>"
      ]
     },
     "metadata": {},
     "output_type": "display_data"
    }
   ],
   "source": [
    "# Visualize 3D Skeletons\n",
    "from pyskl.datasets.pipelines import PreNormalize3D\n",
    "annotations = load('ntu60_3d.pkl')\n",
    "index = 0\n",
    "anno = annotations[index]\n",
    "anno = PreNormalize3D()(anno)  # * Need Pre-Normalization before Visualization\n",
    "vid = Vis3DPose(anno, layout='nturgb+d', fps=12, angle=(30, 45), fig_size=(8, 8), dpi=80)\n",
    "vid = vid.vis()\n",
    "vid.ipython_display()"
   ]
  },
  {
   "cell_type": "code",
   "execution_count": null,
   "metadata": {},
   "outputs": [],
   "source": [
    "# Clean directories\n",
    "os.remove('ntu60_3d.pkl')\n",
    "os.remove('ntu60_2d.pkl')\n",
    "for f in glob.glob(\"S*.avi\"):\n",
    "    os.remove(f)\n",
    "os.remove('__temp__.mp4')"
   ]
  }
 ],
 "metadata": {
  "kernelspec": {
   "display_name": "Python 3.8.15 ('pytorch')",
   "language": "python",
   "name": "python3"
  },
  "language_info": {
   "codemirror_mode": {
    "name": "ipython",
    "version": 3
   },
   "file_extension": ".py",
   "mimetype": "text/x-python",
   "name": "python",
   "nbconvert_exporter": "python",
   "pygments_lexer": "ipython3",
   "version": "3.8.15"
  },
  "vscode": {
   "interpreter": {
    "hash": "869bc01b5b31482dbadae5b2491d5fcc8c38d643a0d62598b516f023bced8de8"
   }
  }
 },
 "nbformat": 4,
 "nbformat_minor": 4
}
